{
 "cells": [
  {
   "attachments": {},
   "cell_type": "markdown",
   "metadata": {},
   "source": [
    "# <center> Pacmann Final Project Probability : Probability Analysis of US Health Insurance Dataset\n",
    "\n",
    "## <center> Balqis Dwian Fitri Zamzami - ADS Batch 13"
   ]
  },
  {
   "attachments": {},
   "cell_type": "markdown",
   "metadata": {},
   "source": [
    "### Import Libraryˎˊ˗ ✰"
   ]
  },
  {
   "cell_type": "code",
   "execution_count": 2,
   "metadata": {},
   "outputs": [],
   "source": [
    "import numpy as np\n",
    "import pandas as pd\n",
    "import matplotlib.pyplot as plt\n",
    "import seaborn as sns\n",
    "import warnings\n",
    "from scipy import stats\n",
    "warnings.filterwarnings(\"ignore\")"
   ]
  },
  {
   "attachments": {},
   "cell_type": "markdown",
   "metadata": {},
   "source": [
    "### Import & Load Datasetˎˊ˗ ✰"
   ]
  },
  {
   "cell_type": "code",
   "execution_count": 3,
   "metadata": {},
   "outputs": [
    {
     "data": {
      "text/html": [
       "<div>\n",
       "<style scoped>\n",
       "    .dataframe tbody tr th:only-of-type {\n",
       "        vertical-align: middle;\n",
       "    }\n",
       "\n",
       "    .dataframe tbody tr th {\n",
       "        vertical-align: top;\n",
       "    }\n",
       "\n",
       "    .dataframe thead th {\n",
       "        text-align: right;\n",
       "    }\n",
       "</style>\n",
       "<table border=\"1\" class=\"dataframe\">\n",
       "  <thead>\n",
       "    <tr style=\"text-align: right;\">\n",
       "      <th></th>\n",
       "      <th>age</th>\n",
       "      <th>sex</th>\n",
       "      <th>bmi</th>\n",
       "      <th>children</th>\n",
       "      <th>smoker</th>\n",
       "      <th>region</th>\n",
       "      <th>charges</th>\n",
       "    </tr>\n",
       "  </thead>\n",
       "  <tbody>\n",
       "    <tr>\n",
       "      <th>0</th>\n",
       "      <td>19</td>\n",
       "      <td>female</td>\n",
       "      <td>27.900</td>\n",
       "      <td>0</td>\n",
       "      <td>yes</td>\n",
       "      <td>southwest</td>\n",
       "      <td>16884.92400</td>\n",
       "    </tr>\n",
       "    <tr>\n",
       "      <th>1</th>\n",
       "      <td>18</td>\n",
       "      <td>male</td>\n",
       "      <td>33.770</td>\n",
       "      <td>1</td>\n",
       "      <td>no</td>\n",
       "      <td>southeast</td>\n",
       "      <td>1725.55230</td>\n",
       "    </tr>\n",
       "    <tr>\n",
       "      <th>2</th>\n",
       "      <td>28</td>\n",
       "      <td>male</td>\n",
       "      <td>33.000</td>\n",
       "      <td>3</td>\n",
       "      <td>no</td>\n",
       "      <td>southeast</td>\n",
       "      <td>4449.46200</td>\n",
       "    </tr>\n",
       "    <tr>\n",
       "      <th>3</th>\n",
       "      <td>33</td>\n",
       "      <td>male</td>\n",
       "      <td>22.705</td>\n",
       "      <td>0</td>\n",
       "      <td>no</td>\n",
       "      <td>northwest</td>\n",
       "      <td>21984.47061</td>\n",
       "    </tr>\n",
       "    <tr>\n",
       "      <th>4</th>\n",
       "      <td>32</td>\n",
       "      <td>male</td>\n",
       "      <td>28.880</td>\n",
       "      <td>0</td>\n",
       "      <td>no</td>\n",
       "      <td>northwest</td>\n",
       "      <td>3866.85520</td>\n",
       "    </tr>\n",
       "  </tbody>\n",
       "</table>\n",
       "</div>"
      ],
      "text/plain": [
       "   age     sex     bmi  children smoker     region      charges\n",
       "0   19  female  27.900         0    yes  southwest  16884.92400\n",
       "1   18    male  33.770         1     no  southeast   1725.55230\n",
       "2   28    male  33.000         3     no  southeast   4449.46200\n",
       "3   33    male  22.705         0     no  northwest  21984.47061\n",
       "4   32    male  28.880         0     no  northwest   3866.85520"
      ]
     },
     "execution_count": 3,
     "metadata": {},
     "output_type": "execute_result"
    }
   ],
   "source": [
    "df = pd.read_csv(\"insurance.csv\")\n",
    "df.head()"
   ]
  },
  {
   "cell_type": "code",
   "execution_count": 4,
   "metadata": {},
   "outputs": [
    {
     "data": {
      "text/plain": [
       "(1338, 7)"
      ]
     },
     "execution_count": 4,
     "metadata": {},
     "output_type": "execute_result"
    }
   ],
   "source": [
    "df.shape"
   ]
  },
  {
   "cell_type": "code",
   "execution_count": 5,
   "metadata": {},
   "outputs": [
    {
     "data": {
      "text/plain": [
       "age         0\n",
       "sex         0\n",
       "bmi         0\n",
       "children    0\n",
       "smoker      0\n",
       "region      0\n",
       "charges     0\n",
       "dtype: int64"
      ]
     },
     "execution_count": 5,
     "metadata": {},
     "output_type": "execute_result"
    }
   ],
   "source": [
    "df.isnull().sum()"
   ]
  },
  {
   "cell_type": "code",
   "execution_count": 6,
   "metadata": {},
   "outputs": [
    {
     "data": {
      "text/html": [
       "<div>\n",
       "<style scoped>\n",
       "    .dataframe tbody tr th:only-of-type {\n",
       "        vertical-align: middle;\n",
       "    }\n",
       "\n",
       "    .dataframe tbody tr th {\n",
       "        vertical-align: top;\n",
       "    }\n",
       "\n",
       "    .dataframe thead th {\n",
       "        text-align: right;\n",
       "    }\n",
       "</style>\n",
       "<table border=\"1\" class=\"dataframe\">\n",
       "  <thead>\n",
       "    <tr style=\"text-align: right;\">\n",
       "      <th></th>\n",
       "      <th>count</th>\n",
       "      <th>mean</th>\n",
       "      <th>std</th>\n",
       "      <th>min</th>\n",
       "      <th>25%</th>\n",
       "      <th>50%</th>\n",
       "      <th>75%</th>\n",
       "      <th>max</th>\n",
       "    </tr>\n",
       "  </thead>\n",
       "  <tbody>\n",
       "    <tr>\n",
       "      <th>age</th>\n",
       "      <td>1338.0</td>\n",
       "      <td>39.207025</td>\n",
       "      <td>14.049960</td>\n",
       "      <td>18.0000</td>\n",
       "      <td>27.00000</td>\n",
       "      <td>39.000</td>\n",
       "      <td>51.000000</td>\n",
       "      <td>64.00000</td>\n",
       "    </tr>\n",
       "    <tr>\n",
       "      <th>bmi</th>\n",
       "      <td>1338.0</td>\n",
       "      <td>30.663397</td>\n",
       "      <td>6.098187</td>\n",
       "      <td>15.9600</td>\n",
       "      <td>26.29625</td>\n",
       "      <td>30.400</td>\n",
       "      <td>34.693750</td>\n",
       "      <td>53.13000</td>\n",
       "    </tr>\n",
       "    <tr>\n",
       "      <th>children</th>\n",
       "      <td>1338.0</td>\n",
       "      <td>1.094918</td>\n",
       "      <td>1.205493</td>\n",
       "      <td>0.0000</td>\n",
       "      <td>0.00000</td>\n",
       "      <td>1.000</td>\n",
       "      <td>2.000000</td>\n",
       "      <td>5.00000</td>\n",
       "    </tr>\n",
       "    <tr>\n",
       "      <th>charges</th>\n",
       "      <td>1338.0</td>\n",
       "      <td>13270.422265</td>\n",
       "      <td>12110.011237</td>\n",
       "      <td>1121.8739</td>\n",
       "      <td>4740.28715</td>\n",
       "      <td>9382.033</td>\n",
       "      <td>16639.912515</td>\n",
       "      <td>63770.42801</td>\n",
       "    </tr>\n",
       "  </tbody>\n",
       "</table>\n",
       "</div>"
      ],
      "text/plain": [
       "           count          mean           std        min         25%       50%  \\\n",
       "age       1338.0     39.207025     14.049960    18.0000    27.00000    39.000   \n",
       "bmi       1338.0     30.663397      6.098187    15.9600    26.29625    30.400   \n",
       "children  1338.0      1.094918      1.205493     0.0000     0.00000     1.000   \n",
       "charges   1338.0  13270.422265  12110.011237  1121.8739  4740.28715  9382.033   \n",
       "\n",
       "                   75%          max  \n",
       "age          51.000000     64.00000  \n",
       "bmi          34.693750     53.13000  \n",
       "children      2.000000      5.00000  \n",
       "charges   16639.912515  63770.42801  "
      ]
     },
     "execution_count": 6,
     "metadata": {},
     "output_type": "execute_result"
    }
   ],
   "source": [
    "# Descriptive Statistical Problem\n",
    "df.describe().transpose()"
   ]
  },
  {
   "attachments": {},
   "cell_type": "markdown",
   "metadata": {},
   "source": [
    "### Analysis of Descriptive Statisticsˎˊ˗ ✰"
   ]
  },
  {
   "attachments": {},
   "cell_type": "markdown",
   "metadata": {},
   "source": [
    "##### 1. Average age of insurance members"
   ]
  },
  {
   "cell_type": "code",
   "execution_count": 7,
   "metadata": {},
   "outputs": [
    {
     "name": "stdout",
     "output_type": "stream",
     "text": [
      "Average age of insurance members :  39.20702541106129\n"
     ]
    }
   ],
   "source": [
    "user_age_mean = np.mean(df[\"age\"])\n",
    "print(\"Average age of insurance members : \", user_age_mean)"
   ]
  },
  {
   "attachments": {},
   "cell_type": "markdown",
   "metadata": {},
   "source": [
    "##### 2. Average BMI of insurance members who are smokers"
   ]
  },
  {
   "cell_type": "code",
   "execution_count": 8,
   "metadata": {},
   "outputs": [
    {
     "name": "stdout",
     "output_type": "stream",
     "text": [
      "Average BMI of insurance members who are smokers :  30.70844890510949\n"
     ]
    }
   ],
   "source": [
    "smokers = df[df[\"smoker\"] == \"yes\"]\n",
    "smokers_bmi_mean = np.mean(smokers[\"bmi\"])\n",
    "\n",
    "print(\"Average BMI of insurance members who are smokers : \", smokers_bmi_mean)"
   ]
  },
  {
   "attachments": {},
   "cell_type": "markdown",
   "metadata": {},
   "source": [
    "##### 3. Variance of the insurance charges where he/she is a smoker and non-smoker"
   ]
  },
  {
   "cell_type": "code",
   "execution_count": 9,
   "metadata": {},
   "outputs": [
    {
     "name": "stdout",
     "output_type": "stream",
     "text": [
      "Variance of smoker data :  132721153.13625307\n",
      "Variance of non-smoker data :  35891656.00316426\n",
      "Variance of charges data from smokers and non-smokers is different\n"
     ]
    }
   ],
   "source": [
    "smokers_charges = df[df[\"smoker\"] == \"yes\"][\"charges\"]\n",
    "non_smokers_charges = df[df[\"smoker\"] == \"no\"][\"charges\"]\n",
    "\n",
    "# Variance of smoker data\n",
    "smokers_charges_var = np.var(smokers_charges)\n",
    "print(\"Variance of smoker data : \", smokers_charges_var)\n",
    "\n",
    "# Variance of non-smoker data\n",
    "non_smokers_charges_var = np.var(non_smokers_charges)\n",
    "print(\"Variance of non-smoker data : \", non_smokers_charges_var)\n",
    "\n",
    "if (smokers_charges_var == non_smokers_charges_var):\n",
    "    print(\"Variance of charges data from smokers and non-smokers is equal, \")\n",
    "else:\n",
    "    print(\"Variance of charges data from smokers and non-smokers is different\")"
   ]
  },
  {
   "attachments": {},
   "cell_type": "markdown",
   "metadata": {},
   "source": [
    "##### 4. Average age of female and male insurance members who smoke"
   ]
  },
  {
   "cell_type": "code",
   "execution_count": 10,
   "metadata": {},
   "outputs": [
    {
     "name": "stdout",
     "output_type": "stream",
     "text": [
      "Average age of male smoker :  38.44654088050314\n",
      "Average age of female smoker :  38.608695652173914\n",
      "Average age of female and male smokers is different\n"
     ]
    }
   ],
   "source": [
    "male_smokers = df[(df[\"sex\"] == \"male\") & (df[\"smoker\"] == \"yes\")]\n",
    "female_smoker = df[(df[\"sex\"] == \"female\") & (df[\"smoker\"] == \"yes\")]\n",
    "\n",
    "# Average age of male smoker\n",
    "male_smoker_mean = np.mean(male_smokers[\"age\"])\n",
    "print(\"Average age of male smoker : \", male_smoker_mean)\n",
    "\n",
    "# Average age of female smoker\n",
    "female_smoker_mean = np.mean(female_smoker[\"age\"])\n",
    "print(\"Average age of female smoker : \", female_smoker_mean)\n",
    "\n",
    "if (male_smoker_mean == female_smoker_mean):\n",
    "    print(\"Average age of female and male smokers is equal\")\n",
    "else:\n",
    "    print(\"Average age of female and male smokers is different\")"
   ]
  },
  {
   "attachments": {},
   "cell_type": "markdown",
   "metadata": {},
   "source": [
    "##### 5. Average insurance charges of smokers and non-smokers"
   ]
  },
  {
   "cell_type": "code",
   "execution_count": 11,
   "metadata": {},
   "outputs": [
    {
     "name": "stdout",
     "output_type": "stream",
     "text": [
      "Average insurance charge of smokers :  32050.23183153284\n",
      "Average insurance charge of non-smokers :  8434.268297856204\n",
      "Average insurance charge of smokers is higher than average insurance charge of non-smokers\n"
     ]
    }
   ],
   "source": [
    "smokers_charges = df[df[\"smoker\"] == \"yes\"][\"charges\"]\n",
    "non_smokers_charges = df[df[\"smoker\"] == \"no\"][\"charges\"]\n",
    "\n",
    "# Average insurance charge of smokers\n",
    "smokers_charges_mean = np.mean(smokers_charges)\n",
    "print(\"Average insurance charge of smokers : \", smokers_charges_mean)\n",
    "\n",
    "# Average insurance charge of non-smokers\n",
    "non_smokers_charges_mean = np.mean(non_smokers_charges)\n",
    "print(\"Average insurance charge of non-smokers : \", non_smokers_charges_mean)\n",
    "\n",
    "if (smokers_charges_mean > non_smokers_charges_mean):\n",
    "    print(\"Average insurance charge of smokers is higher than average insurance charge of non-smokers\")\n",
    "elif (non_smokers_charges_mean > smokers_charges_mean):\n",
    "    print(\"Average insurance charge of non-smokers is higher than average insurance charge of smokers is higher\")"
   ]
  },
  {
   "attachments": {},
   "cell_type": "markdown",
   "metadata": {},
   "source": [
    "### Analysis of Categorical Variables (PMF)ˎˊ˗ ✰"
   ]
  },
  {
   "attachments": {},
   "cell_type": "markdown",
   "metadata": {},
   "source": [
    "##### 1. Which gender has the highest charge?"
   ]
  },
  {
   "cell_type": "code",
   "execution_count": 12,
   "metadata": {},
   "outputs": [
    {
     "name": "stdout",
     "output_type": "stream",
     "text": [
      "Highest female insurance charge data :  12569.578843835347\n",
      "Highest male insurance charge data :  13956.751177721893\n",
      "Males have the highest insurance charge data\n"
     ]
    }
   ],
   "source": [
    "# Reshaping Table to be grouped based on the region and charges value\n",
    "# Data on male and female insurance charge\n",
    "male_charges = df[df[\"sex\"] == \"male\"][\"charges\"]\n",
    "female_charges = df[df[\"sex\"] == \"female\"][\"charges\"]\n",
    "\n",
    "# Data on average age of female and male \n",
    "male_charges_highest = np.mean(male_charges)\n",
    "female_charges_highest = np.mean(female_charges)\n",
    "\n",
    "print(\"Highest female insurance charge data : \", female_charges_highest )\n",
    "print(\"Highest male insurance charge data : \", male_charges_highest)\n",
    "\n",
    "if (male_charges_highest > female_charges_highest):\n",
    "    print(\"Males have the highest insurance charge data\")\n",
    "elif (female_charges_highest > male_charges_highest):\n",
    "    print(\"Females have the highest insurance charge data\")"
   ]
  },
  {
   "attachments": {},
   "cell_type": "markdown",
   "metadata": {},
   "source": [
    "##### 2. Does each region have the same proportion of people?"
   ]
  },
  {
   "cell_type": "code",
   "execution_count": 13,
   "metadata": {},
   "outputs": [
    {
     "name": "stdout",
     "output_type": "stream",
     "text": [
      "The proportion per region\n",
      "region\n",
      "northeast    0.242152\n",
      "northwest    0.242900\n",
      "southeast    0.272048\n",
      "southwest    0.242900\n",
      "Name: region, dtype: float64\n"
     ]
    }
   ],
   "source": [
    "data_per_region = df.groupby(\"region\")[\"region\"].count()\n",
    "proportion_per_region = data_per_region/data_per_region.sum()\n",
    "print(\"The proportion per region\")\n",
    "print(proportion_per_region)"
   ]
  },
  {
   "attachments": {},
   "cell_type": "markdown",
   "metadata": {},
   "source": [
    "##### 3. Which region has a higher proportion of smokers or non-smokers?"
   ]
  },
  {
   "cell_type": "code",
   "execution_count": 14,
   "metadata": {},
   "outputs": [
    {
     "name": "stdout",
     "output_type": "stream",
     "text": [
      "Proportion of non-smokers is  0.7952167414050823\n",
      "Proportion of smokers is  0.20478325859491778\n"
     ]
    }
   ],
   "source": [
    "smoker_proportion = df.groupby(\"smoker\")[\"smoker\"].count()\n",
    "smoker_proportion = smoker_proportion/smoker_proportion.sum()\n",
    "\n",
    "print(\"Proportion of non-smokers is \", smoker_proportion.loc[\"no\"])\n",
    "print(\"Proportion of smokers is \", smoker_proportion.loc[\"yes\"])"
   ]
  },
  {
   "attachments": {},
   "cell_type": "markdown",
   "metadata": {},
   "source": [
    "##### 4. What is the probability that a person who is female is known to be a smoker?"
   ]
  },
  {
   "cell_type": "code",
   "execution_count": 15,
   "metadata": {},
   "outputs": [
    {
     "name": "stdout",
     "output_type": "stream",
     "text": [
      "The probability that a randomly selected insurance member is female if it is known that she is a smoker :  0.4197080291970803\n"
     ]
    }
   ],
   "source": [
    "n_female_and_smoker = df[(df[\"sex\"] == \"female\") & (df[\"smoker\"] == \"yes\")][\"smoker\"].count()\n",
    "n_smoker = df[df[\"smoker\"] == \"yes\"][\"smoker\"].count()\n",
    "\n",
    "p_female_given_smoker = n_female_and_smoker/n_smoker\n",
    "print(\"The probability that a randomly selected insurance member is female if it is known that she is a smoker : \", p_female_given_smoker)"
   ]
  },
  {
   "attachments": {},
   "cell_type": "markdown",
   "metadata": {},
   "source": [
    "##### 5. What is the probability that a person is a male known to be a smoker?"
   ]
  },
  {
   "cell_type": "code",
   "execution_count": 16,
   "metadata": {},
   "outputs": [
    {
     "name": "stdout",
     "output_type": "stream",
     "text": [
      "The probability that a randomly selected insurance member is male if it is known that he is a smoker :  0.5802919708029197\n"
     ]
    }
   ],
   "source": [
    "n_male_and_smoker = df[(df[\"sex\"] == \"male\") & (df[\"smoker\"] == \"yes\")][\"smoker\"].count()\n",
    "n_smoker = df[df[\"smoker\"] == \"yes\"][\"smoker\"].count()\n",
    "\n",
    "p_male_given_smoker = n_male_and_smoker/n_smoker\n",
    "print(\"The probability that a randomly selected insurance member is male if it is known that he is a smoker : \",p_male_given_smoker)"
   ]
  },
  {
   "attachments": {},
   "cell_type": "markdown",
   "metadata": {},
   "source": [
    "### Analysis of Continuous Variablesˎˊ˗ ✰"
   ]
  },
  {
   "attachments": {},
   "cell_type": "markdown",
   "metadata": {},
   "source": [
    "##### 1. Which is more likely to happen"
   ]
  },
  {
   "attachments": {},
   "cell_type": "markdown",
   "metadata": {},
   "source": [
    "##### a. A person with a BMI above 25 gets a health bill above 16.7k, or"
   ]
  },
  {
   "cell_type": "code",
   "execution_count": 17,
   "metadata": {},
   "outputs": [
    {
     "name": "stdout",
     "output_type": "stream",
     "text": [
      "Probability value :  0.8473053892215568\n"
     ]
    }
   ],
   "source": [
    "n_high_bmi_charges = df[(df[\"bmi\"] > 25) & (df[\"charges\"] > 16700)][\"charges\"]\n",
    "n_charges = df[df[\"charges\"] > 16700][\"charges\"]\n",
    "p_high_bmi_charges = n_high_bmi_charges.count()/n_charges.count()\n",
    "\n",
    "print(\"Probability value : \", p_high_bmi_charges)"
   ]
  },
  {
   "attachments": {},
   "cell_type": "markdown",
   "metadata": {},
   "source": [
    "##### b. A person with a BMI below 25 gets a health bill above 16.7k"
   ]
  },
  {
   "cell_type": "code",
   "execution_count": 18,
   "metadata": {},
   "outputs": [
    {
     "name": "stdout",
     "output_type": "stream",
     "text": [
      "Probability value :  0.15269461077844312\n"
     ]
    }
   ],
   "source": [
    "n_low_bmi_charges = df[(df[\"bmi\"] < 25) & (df[\"charges\"] > 16700)][\"charges\"]\n",
    "n_charges = df[df[\"charges\"] > 16700][\"charges\"]\n",
    "p_low_charges = n_low_bmi_charges.count()/n_charges.count()\n",
    "\n",
    "print(\"Probability value : \", p_low_charges)"
   ]
  },
  {
   "attachments": {},
   "cell_type": "markdown",
   "metadata": {},
   "source": [
    "If we compare, we get the value :"
   ]
  },
  {
   "cell_type": "code",
   "execution_count": 19,
   "metadata": {},
   "outputs": [
    {
     "name": "stdout",
     "output_type": "stream",
     "text": [
      "What may happen is that someone with a BMI > 25 gets a health bill of more than 16700\n"
     ]
    }
   ],
   "source": [
    "if (p_high_bmi_charges > p_low_charges):\n",
    "    print(\"What may happen is that someone with a BMI > 25 gets a health bill of more than 16700\")\n",
    "elif(p_high_bmi_charges > p_low_charges):\n",
    "    print(\"What may happen is that someone with a BMI < 25 gets a health bill of more than 16700\")"
   ]
  },
  {
   "attachments": {},
   "cell_type": "markdown",
   "metadata": {},
   "source": [
    "##### 2. Which is more likely to happen"
   ]
  },
  {
   "attachments": {},
   "cell_type": "markdown",
   "metadata": {},
   "source": [
    "##### a. A smoker with a BMI above 25 gets a health charge of above 16.7k, or"
   ]
  },
  {
   "cell_type": "code",
   "execution_count": 20,
   "metadata": {},
   "outputs": [
    {
     "name": "stdout",
     "output_type": "stream",
     "text": [
      "Probability value :  0.9817351598173516\n"
     ]
    }
   ],
   "source": [
    "smoker_high_bmi = df[(df[\"smoker\"] == \"yes\") & (df[\"bmi\"] > 25)]\n",
    "\n",
    "n_smoker_high_bmi_charges = smoker_high_bmi[smoker_high_bmi[\"charges\"] > 16700][\"charges\"].count()\n",
    "n_smoker_charges = smoker_high_bmi[\"charges\"].count()\n",
    "p_smoker_high_bmi_high_charges = n_smoker_high_bmi_charges/n_smoker_charges\n",
    "\n",
    "print(\"Probability value : \", n_smoker_high_bmi_charges/n_smoker_charges)"
   ]
  },
  {
   "attachments": {},
   "cell_type": "markdown",
   "metadata": {},
   "source": [
    "##### b. A non-smoker with a BMI above 25 gets a health charge above 16.7k"
   ]
  },
  {
   "cell_type": "code",
   "execution_count": 21,
   "metadata": {},
   "outputs": [
    {
     "name": "stdout",
     "output_type": "stream",
     "text": [
      "Probability value :  0.0779816513761468\n"
     ]
    }
   ],
   "source": [
    "non_smoker_high_bmi = df[(df[\"smoker\"] == \"no\") & (df[\"bmi\"] > 25)]\n",
    "\n",
    "n_non_smoker_high_bmi_charges = non_smoker_high_bmi[non_smoker_high_bmi[\"charges\"] > 16700][\"charges\"].count()\n",
    "n_non_smoker_charges = non_smoker_high_bmi[\"charges\"].count()\n",
    "p_non_smoker_high_bmi_high_charges = n_non_smoker_high_bmi_charges/n_non_smoker_charges\n",
    "\n",
    "print(\"Probability value : \", p_non_smoker_high_bmi_high_charges)"
   ]
  },
  {
   "attachments": {},
   "cell_type": "markdown",
   "metadata": {},
   "source": [
    "### Analysis of Variable Correlationˎˊ˗ ✰"
   ]
  },
  {
   "attachments": {},
   "cell_type": "markdown",
   "metadata": {},
   "source": [
    "##### 1. Covariance and correlation between charges and bmi variables"
   ]
  },
  {
   "cell_type": "code",
   "execution_count": 22,
   "metadata": {},
   "outputs": [
    {
     "data": {
      "text/html": [
       "<div>\n",
       "<style scoped>\n",
       "    .dataframe tbody tr th:only-of-type {\n",
       "        vertical-align: middle;\n",
       "    }\n",
       "\n",
       "    .dataframe tbody tr th {\n",
       "        vertical-align: top;\n",
       "    }\n",
       "\n",
       "    .dataframe thead th {\n",
       "        text-align: right;\n",
       "    }\n",
       "</style>\n",
       "<table border=\"1\" class=\"dataframe\">\n",
       "  <thead>\n",
       "    <tr style=\"text-align: right;\">\n",
       "      <th></th>\n",
       "      <th>charges</th>\n",
       "      <th>bmi</th>\n",
       "    </tr>\n",
       "  </thead>\n",
       "  <tbody>\n",
       "    <tr>\n",
       "      <th>charges</th>\n",
       "      <td>1.000000</td>\n",
       "      <td>0.198341</td>\n",
       "    </tr>\n",
       "    <tr>\n",
       "      <th>bmi</th>\n",
       "      <td>0.198341</td>\n",
       "      <td>1.000000</td>\n",
       "    </tr>\n",
       "  </tbody>\n",
       "</table>\n",
       "</div>"
      ],
      "text/plain": [
       "          charges       bmi\n",
       "charges  1.000000  0.198341\n",
       "bmi      0.198341  1.000000"
      ]
     },
     "execution_count": 22,
     "metadata": {},
     "output_type": "execute_result"
    }
   ],
   "source": [
    "df[['charges', 'bmi']].corr()"
   ]
  },
  {
   "cell_type": "code",
   "execution_count": 23,
   "metadata": {},
   "outputs": [
    {
     "data": {
      "text/plain": [
       "array([[1.46652372e+08, 1.46473044e+04],\n",
       "       [1.46473044e+04, 3.71878836e+01]])"
      ]
     },
     "execution_count": 23,
     "metadata": {},
     "output_type": "execute_result"
    }
   ],
   "source": [
    "np.cov(df[\"charges\"], df['bmi'])"
   ]
  },
  {
   "attachments": {},
   "cell_type": "markdown",
   "metadata": {},
   "source": [
    "##### 2. Covariance and correlation between variable charges and smoker"
   ]
  },
  {
   "cell_type": "code",
   "execution_count": 24,
   "metadata": {},
   "outputs": [
    {
     "data": {
      "text/html": [
       "<div>\n",
       "<style scoped>\n",
       "    .dataframe tbody tr th:only-of-type {\n",
       "        vertical-align: middle;\n",
       "    }\n",
       "\n",
       "    .dataframe tbody tr th {\n",
       "        vertical-align: top;\n",
       "    }\n",
       "\n",
       "    .dataframe thead th {\n",
       "        text-align: right;\n",
       "    }\n",
       "</style>\n",
       "<table border=\"1\" class=\"dataframe\">\n",
       "  <thead>\n",
       "    <tr style=\"text-align: right;\">\n",
       "      <th></th>\n",
       "      <th>smoker</th>\n",
       "      <th>smoker_code</th>\n",
       "    </tr>\n",
       "  </thead>\n",
       "  <tbody>\n",
       "    <tr>\n",
       "      <th>30</th>\n",
       "      <td>yes</td>\n",
       "      <td>1</td>\n",
       "    </tr>\n",
       "    <tr>\n",
       "      <th>31</th>\n",
       "      <td>no</td>\n",
       "      <td>0</td>\n",
       "    </tr>\n",
       "    <tr>\n",
       "      <th>32</th>\n",
       "      <td>no</td>\n",
       "      <td>0</td>\n",
       "    </tr>\n",
       "    <tr>\n",
       "      <th>33</th>\n",
       "      <td>no</td>\n",
       "      <td>0</td>\n",
       "    </tr>\n",
       "    <tr>\n",
       "      <th>34</th>\n",
       "      <td>yes</td>\n",
       "      <td>1</td>\n",
       "    </tr>\n",
       "  </tbody>\n",
       "</table>\n",
       "</div>"
      ],
      "text/plain": [
       "   smoker  smoker_code\n",
       "30    yes            1\n",
       "31     no            0\n",
       "32     no            0\n",
       "33     no            0\n",
       "34    yes            1"
      ]
     },
     "execution_count": 24,
     "metadata": {},
     "output_type": "execute_result"
    }
   ],
   "source": [
    "df[\"smoker_code\"] = df[\"smoker\"].map({\"yes\": 1, \"no\": 0})\n",
    "df[[\"smoker\", \"smoker_code\"]][30:35]"
   ]
  },
  {
   "cell_type": "code",
   "execution_count": 25,
   "metadata": {},
   "outputs": [
    {
     "data": {
      "text/plain": [
       "array([[1.46652372e+08, 3.84866703e+03],\n",
       "       [3.84866703e+03, 1.62968876e-01]])"
      ]
     },
     "execution_count": 25,
     "metadata": {},
     "output_type": "execute_result"
    }
   ],
   "source": [
    "np.cov(df[\"charges\"], df[\"smoker_code\"])"
   ]
  },
  {
   "cell_type": "code",
   "execution_count": 26,
   "metadata": {},
   "outputs": [
    {
     "data": {
      "text/html": [
       "<div>\n",
       "<style scoped>\n",
       "    .dataframe tbody tr th:only-of-type {\n",
       "        vertical-align: middle;\n",
       "    }\n",
       "\n",
       "    .dataframe tbody tr th {\n",
       "        vertical-align: top;\n",
       "    }\n",
       "\n",
       "    .dataframe thead th {\n",
       "        text-align: right;\n",
       "    }\n",
       "</style>\n",
       "<table border=\"1\" class=\"dataframe\">\n",
       "  <thead>\n",
       "    <tr style=\"text-align: right;\">\n",
       "      <th></th>\n",
       "      <th>charges</th>\n",
       "      <th>smoker_code</th>\n",
       "    </tr>\n",
       "  </thead>\n",
       "  <tbody>\n",
       "    <tr>\n",
       "      <th>charges</th>\n",
       "      <td>1.000000</td>\n",
       "      <td>0.787251</td>\n",
       "    </tr>\n",
       "    <tr>\n",
       "      <th>smoker_code</th>\n",
       "      <td>0.787251</td>\n",
       "      <td>1.000000</td>\n",
       "    </tr>\n",
       "  </tbody>\n",
       "</table>\n",
       "</div>"
      ],
      "text/plain": [
       "              charges  smoker_code\n",
       "charges      1.000000     0.787251\n",
       "smoker_code  0.787251     1.000000"
      ]
     },
     "execution_count": 26,
     "metadata": {},
     "output_type": "execute_result"
    }
   ],
   "source": [
    "df[['charges', 'smoker_code']].corr()"
   ]
  },
  {
   "attachments": {},
   "cell_type": "markdown",
   "metadata": {},
   "source": [
    "##### 3. Covariance and correlation between bmi and sex variables"
   ]
  },
  {
   "cell_type": "code",
   "execution_count": 27,
   "metadata": {},
   "outputs": [
    {
     "data": {
      "text/plain": [
       "array([[3.71878836e+01, 9.23280485e-03],\n",
       "       [9.23280485e-03, 1.62968876e-01]])"
      ]
     },
     "execution_count": 27,
     "metadata": {},
     "output_type": "execute_result"
    }
   ],
   "source": [
    "np.cov(df[\"bmi\"], df[\"smoker_code\"])"
   ]
  },
  {
   "cell_type": "code",
   "execution_count": 28,
   "metadata": {},
   "outputs": [
    {
     "data": {
      "text/html": [
       "<div>\n",
       "<style scoped>\n",
       "    .dataframe tbody tr th:only-of-type {\n",
       "        vertical-align: middle;\n",
       "    }\n",
       "\n",
       "    .dataframe tbody tr th {\n",
       "        vertical-align: top;\n",
       "    }\n",
       "\n",
       "    .dataframe thead th {\n",
       "        text-align: right;\n",
       "    }\n",
       "</style>\n",
       "<table border=\"1\" class=\"dataframe\">\n",
       "  <thead>\n",
       "    <tr style=\"text-align: right;\">\n",
       "      <th></th>\n",
       "      <th>bmi</th>\n",
       "      <th>smoker_code</th>\n",
       "    </tr>\n",
       "  </thead>\n",
       "  <tbody>\n",
       "    <tr>\n",
       "      <th>bmi</th>\n",
       "      <td>1.00000</td>\n",
       "      <td>0.00375</td>\n",
       "    </tr>\n",
       "    <tr>\n",
       "      <th>smoker_code</th>\n",
       "      <td>0.00375</td>\n",
       "      <td>1.00000</td>\n",
       "    </tr>\n",
       "  </tbody>\n",
       "</table>\n",
       "</div>"
      ],
      "text/plain": [
       "                 bmi  smoker_code\n",
       "bmi          1.00000      0.00375\n",
       "smoker_code  0.00375      1.00000"
      ]
     },
     "execution_count": 28,
     "metadata": {},
     "output_type": "execute_result"
    }
   ],
   "source": [
    "df[['bmi', 'smoker_code']].corr()"
   ]
  },
  {
   "attachments": {},
   "cell_type": "markdown",
   "metadata": {},
   "source": [
    "##### 4. Covariance and correlation between variable charges and sex"
   ]
  },
  {
   "cell_type": "code",
   "execution_count": 29,
   "metadata": {},
   "outputs": [
    {
     "data": {
      "text/html": [
       "<div>\n",
       "<style scoped>\n",
       "    .dataframe tbody tr th:only-of-type {\n",
       "        vertical-align: middle;\n",
       "    }\n",
       "\n",
       "    .dataframe tbody tr th {\n",
       "        vertical-align: top;\n",
       "    }\n",
       "\n",
       "    .dataframe thead th {\n",
       "        text-align: right;\n",
       "    }\n",
       "</style>\n",
       "<table border=\"1\" class=\"dataframe\">\n",
       "  <thead>\n",
       "    <tr style=\"text-align: right;\">\n",
       "      <th></th>\n",
       "      <th>sex</th>\n",
       "      <th>gender_codes</th>\n",
       "    </tr>\n",
       "  </thead>\n",
       "  <tbody>\n",
       "    <tr>\n",
       "      <th>10</th>\n",
       "      <td>male</td>\n",
       "      <td>0</td>\n",
       "    </tr>\n",
       "    <tr>\n",
       "      <th>11</th>\n",
       "      <td>female</td>\n",
       "      <td>1</td>\n",
       "    </tr>\n",
       "    <tr>\n",
       "      <th>12</th>\n",
       "      <td>male</td>\n",
       "      <td>0</td>\n",
       "    </tr>\n",
       "    <tr>\n",
       "      <th>13</th>\n",
       "      <td>female</td>\n",
       "      <td>1</td>\n",
       "    </tr>\n",
       "    <tr>\n",
       "      <th>14</th>\n",
       "      <td>male</td>\n",
       "      <td>0</td>\n",
       "    </tr>\n",
       "  </tbody>\n",
       "</table>\n",
       "</div>"
      ],
      "text/plain": [
       "       sex  gender_codes\n",
       "10    male             0\n",
       "11  female             1\n",
       "12    male             0\n",
       "13  female             1\n",
       "14    male             0"
      ]
     },
     "execution_count": 29,
     "metadata": {},
     "output_type": "execute_result"
    }
   ],
   "source": [
    "df[\"gender_codes\"] = df[\"sex\"].map({\"female\": 1, \"male\": 0})\n",
    "\n",
    "df[[\"sex\", \"gender_codes\"]][10:15]"
   ]
  },
  {
   "cell_type": "code",
   "execution_count": 30,
   "metadata": {},
   "outputs": [
    {
     "data": {
      "text/plain": [
       "array([[ 1.46652372e+08, -3.47014469e+02],\n",
       "       [-3.47014469e+02,  2.50159595e-01]])"
      ]
     },
     "execution_count": 30,
     "metadata": {},
     "output_type": "execute_result"
    }
   ],
   "source": [
    "np.cov(df[\"charges\"], df[\"gender_codes\"])"
   ]
  },
  {
   "cell_type": "code",
   "execution_count": 31,
   "metadata": {},
   "outputs": [
    {
     "data": {
      "text/html": [
       "<div>\n",
       "<style scoped>\n",
       "    .dataframe tbody tr th:only-of-type {\n",
       "        vertical-align: middle;\n",
       "    }\n",
       "\n",
       "    .dataframe tbody tr th {\n",
       "        vertical-align: top;\n",
       "    }\n",
       "\n",
       "    .dataframe thead th {\n",
       "        text-align: right;\n",
       "    }\n",
       "</style>\n",
       "<table border=\"1\" class=\"dataframe\">\n",
       "  <thead>\n",
       "    <tr style=\"text-align: right;\">\n",
       "      <th></th>\n",
       "      <th>charges</th>\n",
       "      <th>gender_codes</th>\n",
       "    </tr>\n",
       "  </thead>\n",
       "  <tbody>\n",
       "    <tr>\n",
       "      <th>charges</th>\n",
       "      <td>1.000000</td>\n",
       "      <td>-0.057292</td>\n",
       "    </tr>\n",
       "    <tr>\n",
       "      <th>gender_codes</th>\n",
       "      <td>-0.057292</td>\n",
       "      <td>1.000000</td>\n",
       "    </tr>\n",
       "  </tbody>\n",
       "</table>\n",
       "</div>"
      ],
      "text/plain": [
       "               charges  gender_codes\n",
       "charges       1.000000     -0.057292\n",
       "gender_codes -0.057292      1.000000"
      ]
     },
     "execution_count": 31,
     "metadata": {},
     "output_type": "execute_result"
    }
   ],
   "source": [
    "df[[\"charges\", \"gender_codes\"]].corr()"
   ]
  },
  {
   "attachments": {},
   "cell_type": "markdown",
   "metadata": {},
   "source": [
    "##### 5. Covariance and correlation between variable charges and age"
   ]
  },
  {
   "cell_type": "code",
   "execution_count": 32,
   "metadata": {},
   "outputs": [
    {
     "data": {
      "text/plain": [
       "array([[1.46652372e+08, 5.08748023e+04],\n",
       "       [5.08748023e+04, 1.97401387e+02]])"
      ]
     },
     "execution_count": 32,
     "metadata": {},
     "output_type": "execute_result"
    }
   ],
   "source": [
    "np.cov(df[\"charges\"], df[\"age\"])"
   ]
  },
  {
   "cell_type": "code",
   "execution_count": 33,
   "metadata": {},
   "outputs": [
    {
     "data": {
      "text/html": [
       "<div>\n",
       "<style scoped>\n",
       "    .dataframe tbody tr th:only-of-type {\n",
       "        vertical-align: middle;\n",
       "    }\n",
       "\n",
       "    .dataframe tbody tr th {\n",
       "        vertical-align: top;\n",
       "    }\n",
       "\n",
       "    .dataframe thead th {\n",
       "        text-align: right;\n",
       "    }\n",
       "</style>\n",
       "<table border=\"1\" class=\"dataframe\">\n",
       "  <thead>\n",
       "    <tr style=\"text-align: right;\">\n",
       "      <th></th>\n",
       "      <th>charges</th>\n",
       "      <th>age</th>\n",
       "    </tr>\n",
       "  </thead>\n",
       "  <tbody>\n",
       "    <tr>\n",
       "      <th>charges</th>\n",
       "      <td>1.000000</td>\n",
       "      <td>0.299008</td>\n",
       "    </tr>\n",
       "    <tr>\n",
       "      <th>age</th>\n",
       "      <td>0.299008</td>\n",
       "      <td>1.000000</td>\n",
       "    </tr>\n",
       "  </tbody>\n",
       "</table>\n",
       "</div>"
      ],
      "text/plain": [
       "          charges       age\n",
       "charges  1.000000  0.299008\n",
       "age      0.299008  1.000000"
      ]
     },
     "execution_count": 33,
     "metadata": {},
     "output_type": "execute_result"
    }
   ],
   "source": [
    "df[[\"charges\", \"age\"]].corr()"
   ]
  },
  {
   "attachments": {},
   "cell_type": "markdown",
   "metadata": {},
   "source": [
    "##### 6. Correlation Coefficient"
   ]
  },
  {
   "cell_type": "code",
   "execution_count": 34,
   "metadata": {},
   "outputs": [],
   "source": [
    "import seaborn as sns"
   ]
  },
  {
   "cell_type": "code",
   "execution_count": 35,
   "metadata": {},
   "outputs": [],
   "source": [
    "df1 = df.copy()"
   ]
  },
  {
   "cell_type": "code",
   "execution_count": 36,
   "metadata": {},
   "outputs": [
    {
     "data": {
      "text/html": [
       "<div>\n",
       "<style scoped>\n",
       "    .dataframe tbody tr th:only-of-type {\n",
       "        vertical-align: middle;\n",
       "    }\n",
       "\n",
       "    .dataframe tbody tr th {\n",
       "        vertical-align: top;\n",
       "    }\n",
       "\n",
       "    .dataframe thead th {\n",
       "        text-align: right;\n",
       "    }\n",
       "</style>\n",
       "<table border=\"1\" class=\"dataframe\">\n",
       "  <thead>\n",
       "    <tr style=\"text-align: right;\">\n",
       "      <th></th>\n",
       "      <th>age</th>\n",
       "      <th>sex</th>\n",
       "      <th>bmi</th>\n",
       "      <th>children</th>\n",
       "      <th>smoker</th>\n",
       "      <th>region</th>\n",
       "      <th>charges</th>\n",
       "      <th>smoker_code</th>\n",
       "      <th>gender_codes</th>\n",
       "    </tr>\n",
       "  </thead>\n",
       "  <tbody>\n",
       "    <tr>\n",
       "      <th>0</th>\n",
       "      <td>19</td>\n",
       "      <td>female</td>\n",
       "      <td>27.900</td>\n",
       "      <td>0</td>\n",
       "      <td>1</td>\n",
       "      <td>southwest</td>\n",
       "      <td>16884.92400</td>\n",
       "      <td>1</td>\n",
       "      <td>1</td>\n",
       "    </tr>\n",
       "    <tr>\n",
       "      <th>1</th>\n",
       "      <td>18</td>\n",
       "      <td>male</td>\n",
       "      <td>33.770</td>\n",
       "      <td>1</td>\n",
       "      <td>0</td>\n",
       "      <td>southeast</td>\n",
       "      <td>1725.55230</td>\n",
       "      <td>0</td>\n",
       "      <td>0</td>\n",
       "    </tr>\n",
       "    <tr>\n",
       "      <th>2</th>\n",
       "      <td>28</td>\n",
       "      <td>male</td>\n",
       "      <td>33.000</td>\n",
       "      <td>3</td>\n",
       "      <td>0</td>\n",
       "      <td>southeast</td>\n",
       "      <td>4449.46200</td>\n",
       "      <td>0</td>\n",
       "      <td>0</td>\n",
       "    </tr>\n",
       "    <tr>\n",
       "      <th>3</th>\n",
       "      <td>33</td>\n",
       "      <td>male</td>\n",
       "      <td>22.705</td>\n",
       "      <td>0</td>\n",
       "      <td>0</td>\n",
       "      <td>northwest</td>\n",
       "      <td>21984.47061</td>\n",
       "      <td>0</td>\n",
       "      <td>0</td>\n",
       "    </tr>\n",
       "    <tr>\n",
       "      <th>4</th>\n",
       "      <td>32</td>\n",
       "      <td>male</td>\n",
       "      <td>28.880</td>\n",
       "      <td>0</td>\n",
       "      <td>0</td>\n",
       "      <td>northwest</td>\n",
       "      <td>3866.85520</td>\n",
       "      <td>0</td>\n",
       "      <td>0</td>\n",
       "    </tr>\n",
       "  </tbody>\n",
       "</table>\n",
       "</div>"
      ],
      "text/plain": [
       "   age     sex     bmi  children  smoker     region      charges  smoker_code  \\\n",
       "0   19  female  27.900         0       1  southwest  16884.92400            1   \n",
       "1   18    male  33.770         1       0  southeast   1725.55230            0   \n",
       "2   28    male  33.000         3       0  southeast   4449.46200            0   \n",
       "3   33    male  22.705         0       0  northwest  21984.47061            0   \n",
       "4   32    male  28.880         0       0  northwest   3866.85520            0   \n",
       "\n",
       "   gender_codes  \n",
       "0             1  \n",
       "1             0  \n",
       "2             0  \n",
       "3             0  \n",
       "4             0  "
      ]
     },
     "execution_count": 36,
     "metadata": {},
     "output_type": "execute_result"
    }
   ],
   "source": [
    "df1[\"smoker\"] = df1[\"smoker\"].map({\"yes\": 1, \"no\": 0})\n",
    "df1.head()"
   ]
  },
  {
   "cell_type": "code",
   "execution_count": 37,
   "metadata": {},
   "outputs": [
    {
     "data": {
      "text/html": [
       "<div>\n",
       "<style scoped>\n",
       "    .dataframe tbody tr th:only-of-type {\n",
       "        vertical-align: middle;\n",
       "    }\n",
       "\n",
       "    .dataframe tbody tr th {\n",
       "        vertical-align: top;\n",
       "    }\n",
       "\n",
       "    .dataframe thead th {\n",
       "        text-align: right;\n",
       "    }\n",
       "</style>\n",
       "<table border=\"1\" class=\"dataframe\">\n",
       "  <thead>\n",
       "    <tr style=\"text-align: right;\">\n",
       "      <th></th>\n",
       "      <th>age</th>\n",
       "      <th>sex</th>\n",
       "      <th>bmi</th>\n",
       "      <th>children</th>\n",
       "      <th>smoker</th>\n",
       "      <th>region</th>\n",
       "      <th>charges</th>\n",
       "      <th>smoker_code</th>\n",
       "      <th>gender_codes</th>\n",
       "    </tr>\n",
       "  </thead>\n",
       "  <tbody>\n",
       "    <tr>\n",
       "      <th>0</th>\n",
       "      <td>19</td>\n",
       "      <td>1</td>\n",
       "      <td>27.900</td>\n",
       "      <td>0</td>\n",
       "      <td>1</td>\n",
       "      <td>0</td>\n",
       "      <td>16884.92400</td>\n",
       "      <td>1</td>\n",
       "      <td>1</td>\n",
       "    </tr>\n",
       "    <tr>\n",
       "      <th>1</th>\n",
       "      <td>18</td>\n",
       "      <td>0</td>\n",
       "      <td>33.770</td>\n",
       "      <td>1</td>\n",
       "      <td>0</td>\n",
       "      <td>1</td>\n",
       "      <td>1725.55230</td>\n",
       "      <td>0</td>\n",
       "      <td>0</td>\n",
       "    </tr>\n",
       "    <tr>\n",
       "      <th>2</th>\n",
       "      <td>28</td>\n",
       "      <td>0</td>\n",
       "      <td>33.000</td>\n",
       "      <td>3</td>\n",
       "      <td>0</td>\n",
       "      <td>1</td>\n",
       "      <td>4449.46200</td>\n",
       "      <td>0</td>\n",
       "      <td>0</td>\n",
       "    </tr>\n",
       "    <tr>\n",
       "      <th>3</th>\n",
       "      <td>33</td>\n",
       "      <td>0</td>\n",
       "      <td>22.705</td>\n",
       "      <td>0</td>\n",
       "      <td>0</td>\n",
       "      <td>2</td>\n",
       "      <td>21984.47061</td>\n",
       "      <td>0</td>\n",
       "      <td>0</td>\n",
       "    </tr>\n",
       "    <tr>\n",
       "      <th>4</th>\n",
       "      <td>32</td>\n",
       "      <td>0</td>\n",
       "      <td>28.880</td>\n",
       "      <td>0</td>\n",
       "      <td>0</td>\n",
       "      <td>2</td>\n",
       "      <td>3866.85520</td>\n",
       "      <td>0</td>\n",
       "      <td>0</td>\n",
       "    </tr>\n",
       "  </tbody>\n",
       "</table>\n",
       "</div>"
      ],
      "text/plain": [
       "   age  sex     bmi  children  smoker  region      charges  smoker_code  \\\n",
       "0   19    1  27.900         0       1       0  16884.92400            1   \n",
       "1   18    0  33.770         1       0       1   1725.55230            0   \n",
       "2   28    0  33.000         3       0       1   4449.46200            0   \n",
       "3   33    0  22.705         0       0       2  21984.47061            0   \n",
       "4   32    0  28.880         0       0       2   3866.85520            0   \n",
       "\n",
       "   gender_codes  \n",
       "0             1  \n",
       "1             0  \n",
       "2             0  \n",
       "3             0  \n",
       "4             0  "
      ]
     },
     "execution_count": 37,
     "metadata": {},
     "output_type": "execute_result"
    }
   ],
   "source": [
    "df1[\"sex\"] = df1[\"sex\"].map({\"female\": 1, \"male\": 0})\n",
    "df1[\"region\"] = df1[\"region\"].map({\n",
    "    \"southwest\": 0, \n",
    "    \"southeast\": 1, \n",
    "    \"northwest\": 2, \n",
    "    \"northeast\": 3,\n",
    "})\n",
    "\n",
    "df1.head()"
   ]
  },
  {
   "cell_type": "code",
   "execution_count": 38,
   "metadata": {},
   "outputs": [
    {
     "data": {
      "text/html": [
       "<div>\n",
       "<style scoped>\n",
       "    .dataframe tbody tr th:only-of-type {\n",
       "        vertical-align: middle;\n",
       "    }\n",
       "\n",
       "    .dataframe tbody tr th {\n",
       "        vertical-align: top;\n",
       "    }\n",
       "\n",
       "    .dataframe thead th {\n",
       "        text-align: right;\n",
       "    }\n",
       "</style>\n",
       "<table border=\"1\" class=\"dataframe\">\n",
       "  <thead>\n",
       "    <tr style=\"text-align: right;\">\n",
       "      <th></th>\n",
       "      <th>age</th>\n",
       "      <th>sex</th>\n",
       "      <th>bmi</th>\n",
       "      <th>children</th>\n",
       "      <th>smoker</th>\n",
       "      <th>region</th>\n",
       "      <th>charges</th>\n",
       "      <th>smoker_code</th>\n",
       "      <th>gender_codes</th>\n",
       "    </tr>\n",
       "  </thead>\n",
       "  <tbody>\n",
       "    <tr>\n",
       "      <th>age</th>\n",
       "      <td>1.000000</td>\n",
       "      <td>0.020856</td>\n",
       "      <td>0.109272</td>\n",
       "      <td>0.042469</td>\n",
       "      <td>-0.025019</td>\n",
       "      <td>-0.002127</td>\n",
       "      <td>0.299008</td>\n",
       "      <td>-0.025019</td>\n",
       "      <td>0.020856</td>\n",
       "    </tr>\n",
       "    <tr>\n",
       "      <th>sex</th>\n",
       "      <td>0.020856</td>\n",
       "      <td>1.000000</td>\n",
       "      <td>-0.046371</td>\n",
       "      <td>-0.017163</td>\n",
       "      <td>-0.076185</td>\n",
       "      <td>0.004588</td>\n",
       "      <td>-0.057292</td>\n",
       "      <td>-0.076185</td>\n",
       "      <td>1.000000</td>\n",
       "    </tr>\n",
       "    <tr>\n",
       "      <th>bmi</th>\n",
       "      <td>0.109272</td>\n",
       "      <td>-0.046371</td>\n",
       "      <td>1.000000</td>\n",
       "      <td>0.012759</td>\n",
       "      <td>0.003750</td>\n",
       "      <td>-0.157566</td>\n",
       "      <td>0.198341</td>\n",
       "      <td>0.003750</td>\n",
       "      <td>-0.046371</td>\n",
       "    </tr>\n",
       "    <tr>\n",
       "      <th>children</th>\n",
       "      <td>0.042469</td>\n",
       "      <td>-0.017163</td>\n",
       "      <td>0.012759</td>\n",
       "      <td>1.000000</td>\n",
       "      <td>0.007673</td>\n",
       "      <td>-0.016569</td>\n",
       "      <td>0.067998</td>\n",
       "      <td>0.007673</td>\n",
       "      <td>-0.017163</td>\n",
       "    </tr>\n",
       "    <tr>\n",
       "      <th>smoker</th>\n",
       "      <td>-0.025019</td>\n",
       "      <td>-0.076185</td>\n",
       "      <td>0.003750</td>\n",
       "      <td>0.007673</td>\n",
       "      <td>1.000000</td>\n",
       "      <td>0.002181</td>\n",
       "      <td>0.787251</td>\n",
       "      <td>1.000000</td>\n",
       "      <td>-0.076185</td>\n",
       "    </tr>\n",
       "    <tr>\n",
       "      <th>region</th>\n",
       "      <td>-0.002127</td>\n",
       "      <td>0.004588</td>\n",
       "      <td>-0.157566</td>\n",
       "      <td>-0.016569</td>\n",
       "      <td>0.002181</td>\n",
       "      <td>1.000000</td>\n",
       "      <td>0.006208</td>\n",
       "      <td>0.002181</td>\n",
       "      <td>0.004588</td>\n",
       "    </tr>\n",
       "    <tr>\n",
       "      <th>charges</th>\n",
       "      <td>0.299008</td>\n",
       "      <td>-0.057292</td>\n",
       "      <td>0.198341</td>\n",
       "      <td>0.067998</td>\n",
       "      <td>0.787251</td>\n",
       "      <td>0.006208</td>\n",
       "      <td>1.000000</td>\n",
       "      <td>0.787251</td>\n",
       "      <td>-0.057292</td>\n",
       "    </tr>\n",
       "    <tr>\n",
       "      <th>smoker_code</th>\n",
       "      <td>-0.025019</td>\n",
       "      <td>-0.076185</td>\n",
       "      <td>0.003750</td>\n",
       "      <td>0.007673</td>\n",
       "      <td>1.000000</td>\n",
       "      <td>0.002181</td>\n",
       "      <td>0.787251</td>\n",
       "      <td>1.000000</td>\n",
       "      <td>-0.076185</td>\n",
       "    </tr>\n",
       "    <tr>\n",
       "      <th>gender_codes</th>\n",
       "      <td>0.020856</td>\n",
       "      <td>1.000000</td>\n",
       "      <td>-0.046371</td>\n",
       "      <td>-0.017163</td>\n",
       "      <td>-0.076185</td>\n",
       "      <td>0.004588</td>\n",
       "      <td>-0.057292</td>\n",
       "      <td>-0.076185</td>\n",
       "      <td>1.000000</td>\n",
       "    </tr>\n",
       "  </tbody>\n",
       "</table>\n",
       "</div>"
      ],
      "text/plain": [
       "                   age       sex       bmi  children    smoker    region  \\\n",
       "age           1.000000  0.020856  0.109272  0.042469 -0.025019 -0.002127   \n",
       "sex           0.020856  1.000000 -0.046371 -0.017163 -0.076185  0.004588   \n",
       "bmi           0.109272 -0.046371  1.000000  0.012759  0.003750 -0.157566   \n",
       "children      0.042469 -0.017163  0.012759  1.000000  0.007673 -0.016569   \n",
       "smoker       -0.025019 -0.076185  0.003750  0.007673  1.000000  0.002181   \n",
       "region       -0.002127  0.004588 -0.157566 -0.016569  0.002181  1.000000   \n",
       "charges       0.299008 -0.057292  0.198341  0.067998  0.787251  0.006208   \n",
       "smoker_code  -0.025019 -0.076185  0.003750  0.007673  1.000000  0.002181   \n",
       "gender_codes  0.020856  1.000000 -0.046371 -0.017163 -0.076185  0.004588   \n",
       "\n",
       "               charges  smoker_code  gender_codes  \n",
       "age           0.299008    -0.025019      0.020856  \n",
       "sex          -0.057292    -0.076185      1.000000  \n",
       "bmi           0.198341     0.003750     -0.046371  \n",
       "children      0.067998     0.007673     -0.017163  \n",
       "smoker        0.787251     1.000000     -0.076185  \n",
       "region        0.006208     0.002181      0.004588  \n",
       "charges       1.000000     0.787251     -0.057292  \n",
       "smoker_code   0.787251     1.000000     -0.076185  \n",
       "gender_codes -0.057292    -0.076185      1.000000  "
      ]
     },
     "execution_count": 38,
     "metadata": {},
     "output_type": "execute_result"
    }
   ],
   "source": [
    "df1.corr()"
   ]
  },
  {
   "cell_type": "code",
   "execution_count": 39,
   "metadata": {},
   "outputs": [
    {
     "data": {
      "text/plain": [
       "<Axes: >"
      ]
     },
     "execution_count": 39,
     "metadata": {},
     "output_type": "execute_result"
    },
    {
     "data": {
      "image/png": "[encoded data removed]",
      "text/plain": [
       "<Figure size 640x480 with 2 Axes>"
      ]
     },
     "metadata": {},
     "output_type": "display_data"
    }
   ],
   "source": [
    "sns.heatmap(\n",
    "    data=df1.corr(),\n",
    "    cmap=\"YlGnBu\",\n",
    "    annot=True)"
   ]
  },
  {
   "attachments": {},
   "cell_type": "markdown",
   "metadata": {},
   "source": [
    "### Hypothesis Testingˎˊ˗ ✰"
   ]
  },
  {
   "attachments": {},
   "cell_type": "markdown",
   "metadata": {},
   "source": [
    "##### 1. Does the smoker insurance charge is higher than non-smoker?"
   ]
  },
  {
   "cell_type": "code",
   "execution_count": 40,
   "metadata": {},
   "outputs": [
    {
     "name": "stdout",
     "output_type": "stream",
     "text": [
      "Variance from charges for smokers:  132721153.13625307\n",
      "Variance from Charges for non-smokers:  35891656.00316426\n"
     ]
    }
   ],
   "source": [
    "# Number of smokers and non-smokers\n",
    "smokers = df[df[\"smoker\"] == \"yes\"]\n",
    "non_smokers = df[df[\"smoker\"] == \"no\"]\n",
    "\n",
    "# Insurance charge\n",
    "smokers_charges = smokers[\"charges\"]\n",
    "non_smokers_charges = non_smokers[\"charges\"]\n",
    "\n",
    "# Find the variance of the data\n",
    "print(\"Variance from charges for smokers: \", np.var(smokers_charges))\n",
    "print(\"Variance from Charges for non-smokers: \", np.var(non_smokers_charges))"
   ]
  },
  {
   "cell_type": "code",
   "execution_count": 41,
   "metadata": {},
   "outputs": [
    {
     "name": "stdout",
     "output_type": "stream",
     "text": [
      "t_statistcs value:  32.751887766341824\n",
      "p_value:  1.0\n"
     ]
    }
   ],
   "source": [
    "# Statistical Testing\n",
    "\n",
    "t_statistics, p_value = stats.ttest_ind(smokers_charges, non_smokers_charges, \n",
    "                                        alternative=\"less\", equal_var=False)\n",
    "\n",
    "print(\"t_statistcs value: \", t_statistics)\n",
    "print(\"p_value: \", p_value)"
   ]
  },
  {
   "cell_type": "code",
   "execution_count": 42,
   "metadata": {},
   "outputs": [
    {
     "name": "stdout",
     "output_type": "stream",
     "text": [
      "the null hypothesis is not rejected\n"
     ]
    }
   ],
   "source": [
    "# Conclusion\n",
    "\n",
    "significance = 0.05\n",
    "if p_value > significance:\n",
    "    print(\"the null hypothesis is not rejected\")\n",
    "else:\n",
    "    print(\"the null hypothesis is rejected\")"
   ]
  },
  {
   "attachments": {},
   "cell_type": "markdown",
   "metadata": {},
   "source": [
    "##### 2. Does the insurance charge for BMI greater than 25 is higher than BMI less than 25?"
   ]
  },
  {
   "cell_type": "code",
   "execution_count": 43,
   "metadata": {},
   "outputs": [
    {
     "name": "stdout",
     "output_type": "stream",
     "text": [
      "Variance from charges for high bmi:  164579189.52132663\n",
      "Variance from charges for low bmi:  56326859.63068616\n"
     ]
    }
   ],
   "source": [
    "# Number of BMI\n",
    "high_bmi = df[df[\"bmi\"] > 25]\n",
    "low_bmi = df[df[\"bmi\"] < 25]\n",
    "\n",
    "# Insurance charge\n",
    "high_bmi_charges = high_bmi[\"charges\"]\n",
    "low_bmi_charges = low_bmi[\"charges\"]\n",
    "\n",
    "# Find the variance of the data\n",
    "print(\"Variance from charges for high bmi: \", np.var(high_bmi_charges))\n",
    "print(\"Variance from charges for low bmi: \", np.var(low_bmi_charges))"
   ]
  },
  {
   "cell_type": "code",
   "execution_count": 44,
   "metadata": {},
   "outputs": [
    {
     "name": "stdout",
     "output_type": "stream",
     "text": [
      "t_statistcs value:  5.929878344096734\n",
      "p_value:  0.9999999974595514\n"
     ]
    }
   ],
   "source": [
    "# Statistical Testing\n",
    "\n",
    "t_statistics, p_value = stats.ttest_ind(high_bmi_charges, low_bmi_charges, \n",
    "                                        alternative=\"less\", equal_var=False)\n",
    "\n",
    "print(\"t_statistcs value: \", t_statistics)\n",
    "print(\"p_value: \", p_value)"
   ]
  },
  {
   "cell_type": "code",
   "execution_count": 45,
   "metadata": {},
   "outputs": [
    {
     "name": "stdout",
     "output_type": "stream",
     "text": [
      "the null hypothesis is not rejected\n"
     ]
    }
   ],
   "source": [
    "# Conclusion\n",
    "\n",
    "significance = 0.05\n",
    "if p_value > significance:\n",
    "    print(\"the null hypothesis is not rejected\")\n",
    "else:\n",
    "    print(\"the null hypothesis is rejected\")"
   ]
  },
  {
   "attachments": {},
   "cell_type": "markdown",
   "metadata": {},
   "source": [
    "##### 3. Does the BMI of Male and Female are equal?"
   ]
  },
  {
   "cell_type": "code",
   "execution_count": 46,
   "metadata": {},
   "outputs": [
    {
     "name": "stdout",
     "output_type": "stream",
     "text": [
      "Variance BMI of Female :  36.499177033798524\n",
      "Variance BMI of Male :  37.64916073639534\n"
     ]
    }
   ],
   "source": [
    "# Number of Male and Female\n",
    "female = df[df[\"sex\"] == \"female\"]\n",
    "male = df[df[\"sex\"] == \"male\"]\n",
    "\n",
    "# BMI Female vs Male\n",
    "female_bmi = female[\"bmi\"]\n",
    "male_bmi = male[\"bmi\"]\n",
    "\n",
    "# Mean of Male and Female BMI\n",
    "print(\"Variance BMI of Female : \", np.var(female_bmi))\n",
    "print(\"Variance BMI of Male : \", np.var(male_bmi))"
   ]
  },
  {
   "cell_type": "code",
   "execution_count": 47,
   "metadata": {},
   "outputs": [
    {
     "name": "stdout",
     "output_type": "stream",
     "text": [
      "t_statistcs value:  1.696752635752224\n",
      "p_value:  0.08997637178984934\n"
     ]
    }
   ],
   "source": [
    "# Statistical Testing\n",
    "\n",
    "t_statistics, p_value = stats.ttest_ind(male_bmi, female_bmi, \n",
    "                                        alternative=\"two-sided\", equal_var=True)\n",
    "\n",
    "print(\"t_statistcs value: \", t_statistics)\n",
    "print(\"p_value: \", p_value)"
   ]
  },
  {
   "cell_type": "code",
   "execution_count": 48,
   "metadata": {},
   "outputs": [
    {
     "name": "stdout",
     "output_type": "stream",
     "text": [
      "the null hypothesis is not rejected\n"
     ]
    }
   ],
   "source": [
    "# Conclusion\n",
    "\n",
    "significance = 0.05\n",
    "if p_value > significance:\n",
    "    print(\"the null hypothesis is not rejected\")\n",
    "else:\n",
    "    print(\"the null hypothesis is rejected\")"
   ]
  }
 ],
 "metadata": {
  "kernelspec": {
   "display_name": "Python 3",
   "language": "python",
   "name": "python3"
  },
  "language_info": {
   "codemirror_mode": {
    "name": "ipython",
    "version": 3
   },
   "file_extension": ".py",
   "mimetype": "text/x-python",
   "name": "python",
   "nbconvert_exporter": "python",
   "pygments_lexer": "ipython3",
   "version": "3.11.2"
  },
  "orig_nbformat": 4
 },
 "nbformat": 4,
 "nbformat_minor": 2
}
